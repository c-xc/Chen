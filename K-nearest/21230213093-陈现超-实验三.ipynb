{
 "cells": [
  {
   "cell_type": "code",
   "execution_count": 1,
   "id": "02acfec6",
   "metadata": {},
   "outputs": [
    {
     "name": "stdout",
     "output_type": "stream",
     "text": [
      "     class  feature1  feature2  feature3  feature4  feature5  feature6  \\\n",
      "0        1     14.23      1.71      2.43      15.6       127      2.80   \n",
      "1        1     13.20      1.78      2.14      11.2       100      2.65   \n",
      "2        1     13.16      2.36      2.67      18.6       101      2.80   \n",
      "3        1     14.37      1.95      2.50      16.8       113      3.85   \n",
      "4        1     13.24      2.59      2.87      21.0       118      2.80   \n",
      "..     ...       ...       ...       ...       ...       ...       ...   \n",
      "173      3     13.71      5.65      2.45      20.5        95      1.68   \n",
      "174      3     13.40      3.91      2.48      23.0       102      1.80   \n",
      "175      3     13.27      4.28      2.26      20.0       120      1.59   \n",
      "176      3     13.17      2.59      2.37      20.0       120      1.65   \n",
      "177      3     14.13      4.10      2.74      24.5        96      2.05   \n",
      "\n",
      "     feature7  feature8  feature9  feature10  feature11  feature12  feature13  \n",
      "0        3.06      0.28      2.29       5.64       1.04       3.92       1065  \n",
      "1        2.76      0.26      1.28       4.38       1.05       3.40       1050  \n",
      "2        3.24      0.30      2.81       5.68       1.03       3.17       1185  \n",
      "3        3.49      0.24      2.18       7.80       0.86       3.45       1480  \n",
      "4        2.69      0.39      1.82       4.32       1.04       2.93        735  \n",
      "..        ...       ...       ...        ...        ...        ...        ...  \n",
      "173      0.61      0.52      1.06       7.70       0.64       1.74        740  \n",
      "174      0.75      0.43      1.41       7.30       0.70       1.56        750  \n",
      "175      0.69      0.43      1.35      10.20       0.59       1.56        835  \n",
      "176      0.68      0.53      1.46       9.30       0.60       1.62        840  \n",
      "177      0.76      0.56      1.35       9.20       0.61       1.60        560  \n",
      "\n",
      "[178 rows x 14 columns]\n"
     ]
    }
   ],
   "source": [
    "import numpy as np\n",
    "import pandas as pd\n",
    "import random\n",
    "import matplotlib.pyplot as plt\n",
    "\n",
    "# Wine 数据集\n",
    "url = \"https://archive.ics.uci.edu/ml/machine-learning-databases/wine/wine.data\"  \n",
    "# 第一列为class，后十三个为特征\n",
    "names = ['class', 'feature1','feature2','feature3','feature4','feature5','feature6',\\\n",
    "         'feature7','feature8','feature9','feature10','feature11','feature12','feature13',]  \n",
    "\n",
    "data = pd.read_csv(url, names=names)\n",
    "# data = pd.read_csv(url)\n",
    "print(data)"
   ]
  },
  {
   "cell_type": "code",
   "execution_count": 2,
   "id": "2b6a3c1b",
   "metadata": {},
   "outputs": [
    {
     "name": "stdout",
     "output_type": "stream",
     "text": [
      "{1, 2, 3}\n"
     ]
    }
   ],
   "source": [
    "class_set = set(data['class'].values)\n",
    "print(class_set)"
   ]
  },
  {
   "cell_type": "code",
   "execution_count": 3,
   "id": "58843e22",
   "metadata": {},
   "outputs": [],
   "source": [
    "# # 创建一个映射字典将字符串标签映射为数字\n",
    "# label_mapping = {'Iris-setosa': 1, 'Iris-versicolor': 2, 'Iris-virginica': 3}\n",
    "\n",
    "# # 使用映射字典将字符串标签替换为数字\n",
    "# data['class'] = data['class'].map(label_mapping)\n",
    "\n",
    "# print(data)"
   ]
  },
  {
   "cell_type": "code",
   "execution_count": 4,
   "id": "f2044ad5",
   "metadata": {},
   "outputs": [
    {
     "name": "stdout",
     "output_type": "stream",
     "text": [
      "     class  feature1  feature2  feature3  feature4  feature5  feature6  \\\n",
      "0      2.0     12.25      1.73      2.12      19.0      80.0      1.65   \n",
      "1      1.0     14.39      1.87      2.45      14.6      96.0      2.50   \n",
      "2      2.0     11.46      3.74      1.82      19.5     107.0      3.18   \n",
      "3      2.0     12.43      1.53      2.29      21.5      86.0      2.74   \n",
      "4      2.0     12.34      2.45      2.46      21.0      98.0      2.56   \n",
      "..     ...       ...       ...       ...       ...       ...       ...   \n",
      "173    3.0     13.88      5.04      2.23      20.0      80.0      0.98   \n",
      "174    2.0     12.33      1.10      2.28      16.0     101.0      2.05   \n",
      "175    3.0     12.87      4.61      2.48      21.5      86.0      1.70   \n",
      "176    3.0     13.50      3.12      2.62      24.0     123.0      1.40   \n",
      "177    1.0     13.05      1.73      2.04      12.4      92.0      2.72   \n",
      "\n",
      "     feature7  feature8  feature9  feature10  feature11  feature12  feature13  \n",
      "0        2.03      0.37      1.63       3.40       1.00       3.17      510.0  \n",
      "1        2.52      0.30      1.98       5.25       1.02       3.58     1290.0  \n",
      "2        2.58      0.24      3.58       2.90       0.75       2.81      562.0  \n",
      "3        3.15      0.39      1.77       3.94       0.69       2.84      352.0  \n",
      "4        2.11      0.34      1.31       2.80       0.80       3.38      438.0  \n",
      "..        ...       ...       ...        ...        ...        ...        ...  \n",
      "173      0.34      0.40      0.68       4.90       0.58       1.33      415.0  \n",
      "174      1.09      0.63      0.41       3.27       1.25       1.67      680.0  \n",
      "175      0.65      0.47      0.86       7.65       0.54       1.86      625.0  \n",
      "176      1.57      0.22      1.25       8.60       0.59       1.30      500.0  \n",
      "177      3.27      0.17      2.91       7.20       1.12       2.91     1150.0  \n",
      "\n",
      "[178 rows x 14 columns]\n"
     ]
    }
   ],
   "source": [
    "# 将数据集转换为列表，以便打乱顺序\n",
    "data_list = data.values.tolist()\n",
    "\n",
    "# 打乱数据集的顺序\n",
    "random.shuffle(data_list)\n",
    "\n",
    "# 将打乱后的数据重新转换为DataFrame格式\n",
    "shuffled_data = pd.DataFrame(data_list, columns=data.columns) \n",
    "    \n",
    "data = shuffled_data\n",
    "\n",
    "print(data)"
   ]
  },
  {
   "cell_type": "code",
   "execution_count": 5,
   "id": "d295fdc8",
   "metadata": {},
   "outputs": [],
   "source": [
    "# 定义函数计算欧氏距离\n",
    "def euclidean_distance(x1, x2):\n",
    "    return np.sqrt(np.sum((x1 - x2) ** 2))\n",
    "\n",
    "# 定义KNN分类器\n",
    "class KNNClassifier:\n",
    "    def __init__(self, k=3):\n",
    "        self.k = k\n",
    "\n",
    "    def fit(self, X, y):\n",
    "        self.X_train = X\n",
    "        self.y_train = y\n",
    "\n",
    "    def predict(self, X):\n",
    "        y_pred = [self._predict(x) for x in X]\n",
    "        return np.array(y_pred)\n",
    "\n",
    "    def _predict(self, x):\n",
    "        # 计算测试点与所有训练点的距离\n",
    "        distances = [euclidean_distance(x, x_train) for x_train in self.X_train]\n",
    "        # 获取最近的k个邻居的索引\n",
    "        k_indices = np.argsort(distances)[:self.k]\n",
    "        # 获取最近的k个邻居的标签\n",
    "        k_nearest_labels = [self.y_train[i] for i in k_indices]\n",
    "        # 返回出现频率最高的标签作为预测结果\n",
    "        most_common = np.bincount(k_nearest_labels).argmax()\n",
    "        return most_common"
   ]
  },
  {
   "cell_type": "code",
   "execution_count": 6,
   "id": "c9066524",
   "metadata": {},
   "outputs": [],
   "source": [
    "iris_data = data.iloc[:, 1:].values\n",
    "iris_target = data.iloc[:, 0].values\n",
    "\n",
    "# 划分训练集和测试集\n",
    "X_train, X_test, y_train, y_test = iris_data[:140], iris_data[140:], \\\n",
    "                                   iris_target[:140], iris_target[140:]\n",
    "\n",
    "# 初始化KNN分类器，选择k值\n",
    "knn = KNNClassifier(k=4)\n",
    "\n",
    "# 训练模型\n",
    "knn.fit(X_train, y_train)\n",
    "\n",
    "# 预测测试集\n",
    "y_pred = knn.predict(X_test)"
   ]
  },
  {
   "cell_type": "code",
   "execution_count": 7,
   "id": "837f7620",
   "metadata": {},
   "outputs": [
    {
     "name": "stdout",
     "output_type": "stream",
     "text": [
      "分类准确性：0.7368421052631579\n"
     ]
    }
   ],
   "source": [
    "# 计算分类准确性\n",
    "accuracy = np.mean(y_pred == y_test)\n",
    "print(f\"分类准确性：{accuracy}\")"
   ]
  },
  {
   "cell_type": "code",
   "execution_count": 8,
   "id": "04ecb59d",
   "metadata": {
    "scrolled": false
   },
   "outputs": [
    {
     "name": "stdout",
     "output_type": "stream",
     "text": [
      "0\n",
      "1\n",
      "2\n"
     ]
    },
    {
     "data": {
      "image/png": "[encoded data removed]",
      "text/plain": [
       "<Figure size 1000x600 with 1 Axes>"
      ]
     },
     "metadata": {},
     "output_type": "display_data"
    }
   ],
   "source": [
    "# 可视化分类结果\n",
    "label_list = ['class 1', 'class2', 'class3']\n",
    "plt.figure(figsize=(10, 6))\n",
    "colors = ['red', 'green', 'blue']\n",
    "target_names = np.unique(iris_target)\n",
    "for i in range(len(target_names)):\n",
    "    print(i)\n",
    "    actual_class_points = X_test[y_test == target_names[i]]\n",
    "    predicted_class_points = X_test[y_pred == target_names[i]]\n",
    "    \n",
    "    plt.scatter(actual_class_points[:, 0], actual_class_points[:, 1], c=colors[i], label=f'Actual {label_list[i]}', marker='|')\n",
    "    plt.scatter(predicted_class_points[:, 0], predicted_class_points[:, 1], c=colors[i], label=f'Predicted {label_list[i]}', marker='_')\n",
    "\n",
    "    \n",
    "plt.xlabel('feature1')\n",
    "plt.ylabel('feature2')\n",
    "plt.legend()\n",
    "plt.title('result')\n",
    "plt.show()"
   ]
  },
  {
   "cell_type": "code",
   "execution_count": null,
   "id": "b1c51b1c",
   "metadata": {},
   "outputs": [],
   "source": []
  }
 ],
 "metadata": {
  "kernelspec": {
   "display_name": "Python 3 (ipykernel)",
   "language": "python",
   "name": "python3"
  },
  "language_info": {
   "codemirror_mode": {
    "name": "ipython",
    "version": 3
   },
   "file_extension": ".py",
   "mimetype": "text/x-python",
   "name": "python",
   "nbconvert_exporter": "python",
   "pygments_lexer": "ipython3",
   "version": "3.9.16"
  }
 },
 "nbformat": 4,
 "nbformat_minor": 5
}
